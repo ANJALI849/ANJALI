{
  "nbformat": 4,
  "nbformat_minor": 0,
  "metadata": {
    "colab": {
      "provenance": []
    },
    "kernelspec": {
      "name": "python3",
      "display_name": "Python 3"
    },
    "language_info": {
      "name": "python"
    }
  },
  "cells": [
    {
      "cell_type": "code",
      "execution_count": null,
      "metadata": {
        "id": "i6VmDuByAJYM"
      },
      "outputs": [],
      "source": []
    },
    {
      "cell_type": "markdown",
      "source": [
        "# Data Science Tools and Ecosystem\n"
      ],
      "metadata": {
        "id": "E-A1vJTTBN12"
      }
    },
    {
      "cell_type": "markdown",
      "source": [
        "In this notebook, Data Science Tools and Ecosystem are summarized.\n",
        "\n"
      ],
      "metadata": {
        "id": "6tGEyyjPBtmb"
      }
    },
    {
      "cell_type": "markdown",
      "source": [
        "Some of the popular languages that Data Scientists use are:\n",
        "1. Python\n",
        "2. R\n",
        "3. Julia\n",
        "\n"
      ],
      "metadata": {
        "id": "dlKXZTiRB7CK"
      }
    },
    {
      "cell_type": "markdown",
      "source": [
        "Some of the commonly used libraries used by Data Scientists include:\n",
        "1. NumPy\n",
        "2. Pandas\n",
        "3. TensorFlow\n"
      ],
      "metadata": {
        "id": "zpu09xXECBRb"
      }
    },
    {
      "cell_type": "markdown",
      "source": [
        "| Data Science Tools |\n",
        "|--------------------|\n",
        "| Jupyter Notebooks  |\n",
        "| RStudio            |\n",
        "| Apache Zeppelin    |\n",
        "\n"
      ],
      "metadata": {
        "id": "Lhf_IVN-CRSM"
      }
    },
    {
      "cell_type": "code",
      "source": [],
      "metadata": {
        "id": "4D0stK1tCEFH"
      },
      "execution_count": null,
      "outputs": []
    },
    {
      "cell_type": "markdown",
      "source": [
        "### Below are a few examples of evaluating arithmetic expressions in Python.\n"
      ],
      "metadata": {
        "id": "fs4TQxyRCYHC"
      }
    },
    {
      "cell_type": "code",
      "source": [],
      "metadata": {
        "id": "gxxb_4kgCZTH"
      },
      "execution_count": null,
      "outputs": []
    },
    {
      "cell_type": "code",
      "source": [
        "# This is a simple arithmetic expression to multiply then add integers\n",
        "(3 * 4) + 5\n"
      ],
      "metadata": {
        "colab": {
          "base_uri": "https://localhost:8080/"
        },
        "id": "YG96rHhACgD0",
        "outputId": "5a47ca7a-bbf1-4e78-ae21-08b8d2c2431d"
      },
      "execution_count": 1,
      "outputs": [
        {
          "output_type": "execute_result",
          "data": {
            "text/plain": [
              "17"
            ]
          },
          "metadata": {},
          "execution_count": 1
        }
      ]
    },
    {
      "cell_type": "code",
      "source": [
        "# This will convert 200 minutes to hours by dividing by 60\n",
        "200 / 60\n"
      ],
      "metadata": {
        "colab": {
          "base_uri": "https://localhost:8080/"
        },
        "id": "D6t0ohAdChe4",
        "outputId": "91791398-9d8f-4fc4-fd85-66129471e54e"
      },
      "execution_count": 2,
      "outputs": [
        {
          "output_type": "execute_result",
          "data": {
            "text/plain": [
              "3.3333333333333335"
            ]
          },
          "metadata": {},
          "execution_count": 2
        }
      ]
    },
    {
      "cell_type": "code",
      "source": [],
      "metadata": {
        "id": "YfySbYY8CqZi"
      },
      "execution_count": null,
      "outputs": []
    },
    {
      "cell_type": "markdown",
      "source": [
        "**Objectives:**\n",
        "- List popular languages for Data Science\n",
        "- List commonly used libraries in Data Science\n",
        "- Demonstrate basic arithmetic operations in Python\n"
      ],
      "metadata": {
        "id": "-Y2HSxWDCyJh"
      }
    },
    {
      "cell_type": "code",
      "source": [],
      "metadata": {
        "id": "DScykO25CzcJ"
      },
      "execution_count": null,
      "outputs": []
    },
    {
      "cell_type": "markdown",
      "source": [
        "## Author  \n",
        "Your Name\n"
      ],
      "metadata": {
        "id": "edbko1-zC4XY"
      }
    },
    {
      "cell_type": "code",
      "source": [],
      "metadata": {
        "id": "TWzFEVOwC5Px"
      },
      "execution_count": null,
      "outputs": []
    }
  ]
}